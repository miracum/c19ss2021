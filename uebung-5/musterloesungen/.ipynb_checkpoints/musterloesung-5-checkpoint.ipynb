{
 "cells": [
  {
   "cell_type": "markdown",
   "id": "lesser-aspect",
   "metadata": {},
   "source": [
    "# Gesamt-Musterlösung zu Übung 5 (Konzepte für lokale & standortübergreifende Auswertungen)"
   ]
  },
  {
   "cell_type": "markdown",
   "id": "advised-offset",
   "metadata": {},
   "source": [
    "## Initialisierung"
   ]
  },
  {
   "cell_type": "code",
   "execution_count": null,
   "id": "grateful-knitting",
   "metadata": {},
   "outputs": [],
   "source": [
    "# Packages installieren (ggf. beim ersten Lauf aktivieren, danach auskommentieren)\n",
    "#install.packages(\"tidyverse\")\n",
    "#install.packages(\"leaflet\")\n",
    "#install.packages(\"corrplot\")\n",
    "\n",
    "# Packages laden\n",
    "library(readr)\n",
    "library(dplyr)\n",
    "library(tidyr)\n",
    "library(lubridate)\n",
    "library(leaflet)\n",
    "library(corrplot)\n",
    "library(ggplot2)\n",
    "\n",
    "# Konfiguration\n",
    "base_url = \"https://raw.githubusercontent.com/miracum/c19ss2021/master/uebung-5/\""
   ]
  },
  {
   "cell_type": "markdown",
   "id": "potential-texas",
   "metadata": {},
   "source": [
    "## Data Prep\n",
    "\n",
    "### Patientenstammdaten laden"
   ]
  },
  {
   "cell_type": "code",
   "execution_count": null,
   "id": "ignored-witch",
   "metadata": {},
   "outputs": [],
   "source": [
    "# Patientenstammdaten Bielefeld laden\n",
    "patients.bielefeld <- read_csv(paste(base_url, \"rohdaten/bielefeld/csv/patients.csv\", sep=\"\"), col_types = cols(BIRTHDATE = col_date(format = \"%Y-%m-%d\")))\n",
    "head(patients.bielefeld)"
   ]
  },
  {
   "cell_type": "markdown",
   "id": "welsh-reynolds",
   "metadata": {},
   "source": [
    "### Geovisualisierung der Patientenstammdaten"
   ]
  },
  {
   "cell_type": "code",
   "execution_count": null,
   "id": "emerging-freeware",
   "metadata": {
    "scrolled": false
   },
   "outputs": [],
   "source": [
    "# Geovisualisierung der Bielefelder Patientenstammdaten\n",
    "leaflet() %>%\n",
    "  setView(10.217850, 51.151509, zoom=6) %>%\n",
    "  addTiles() %>%\n",
    "  addMarkers(data = patients.bielefeld, ~LON, ~LAT, clusterOptions = markerClusterOptions())"
   ]
  },
  {
   "cell_type": "markdown",
   "id": "powerful-logging",
   "metadata": {},
   "source": [
    "### Histogramm nach Geburtsjahr"
   ]
  },
  {
   "cell_type": "code",
   "execution_count": null,
   "id": "prostate-mobility",
   "metadata": {},
   "outputs": [],
   "source": [
    "# Bielefelder Patientenstämme nach Geburtsjahr & Geschlecht plotten\n",
    "ggplot(data=patients.bielefeld, aes(x=lubridate::year(BIRTHDATE), fill=GENDER)) +\n",
    "    geom_histogram(binwidth=5)"
   ]
  },
  {
   "cell_type": "markdown",
   "id": "optional-cargo",
   "metadata": {},
   "source": [
    "### Alter berechnen & Histogramm nach Alter"
   ]
  },
  {
   "cell_type": "code",
   "execution_count": null,
   "id": "latest-microphone",
   "metadata": {
    "scrolled": true
   },
   "outputs": [],
   "source": [
    "# Alter der Bielefelder Patienten berechnen & plotten\n",
    "patients.bielefeld <- mutate(patients.bielefeld, AGE = case_when(is.na(DEATHDATE) ~ as.period(interval(start = BIRTHDATE, end = Sys.Date()))$year, TRUE ~ as.period(interval(start = BIRTHDATE, end = DEATHDATE))$year))\n",
    "ggplot(data=patients.bielefeld, aes(x=AGE, fill=GENDER)) +\n",
    "    geom_histogram(binwidth=5)"
   ]
  },
  {
   "cell_type": "markdown",
   "id": "broadband-estimate",
   "metadata": {},
   "source": [
    "### Diagnosen laden"
   ]
  },
  {
   "cell_type": "code",
   "execution_count": null,
   "id": "intimate-handling",
   "metadata": {
    "scrolled": true
   },
   "outputs": [],
   "source": [
    "# Diagnosen Bielefeld laden\n",
    "diagnoses.bielefeld <- read_csv(paste(base_url, \"rohdaten/bielefeld/csv/conditions.csv\", sep=\"\"), col_types = cols(START = col_date(format = \"%Y-%m-%d\"), STOP = col_date(format = \"%Y-%m-%d\")))\n",
    "head(diagnoses.bielefeld)"
   ]
  },
  {
   "cell_type": "markdown",
   "id": "regional-stadium",
   "metadata": {},
   "source": [
    "### Exploration der Diagnosen"
   ]
  },
  {
   "cell_type": "code",
   "execution_count": null,
   "id": "imperial-beast",
   "metadata": {},
   "outputs": [],
   "source": [
    "# Diagnosen der Bielefelder Kohorte\n",
    "ggplot(data=diagnoses.bielefeld, aes(x=DESCRIPTION)) +\n",
    "    geom_bar()"
   ]
  },
  {
   "cell_type": "markdown",
   "id": "primary-oakland",
   "metadata": {},
   "source": [
    "### Top-10 Diagnosen"
   ]
  },
  {
   "cell_type": "code",
   "execution_count": null,
   "id": "referenced-mozambique",
   "metadata": {
    "scrolled": true
   },
   "outputs": [],
   "source": [
    "# Barplot der Top 10 Diagnosen der Bielefelder Kohorte\n",
    "ggplot(data=diagnoses.bielefeld %>% \n",
    "            group_by(DESCRIPTION) %>% \n",
    "            summarize(FREQ=n()) %>%\n",
    "            slice_max(FREQ, n=10), \n",
    "       aes(x=reorder(DESCRIPTION, -FREQ), y=FREQ)) +\n",
    "    geom_bar(stat=\"identity\") +\n",
    "    theme(axis.text.x = element_text(angle = 90, vjust = 0.5, hjust=1))"
   ]
  },
  {
   "cell_type": "markdown",
   "id": "experimental-marking",
   "metadata": {},
   "source": [
    "## Auswertung der Daten\n",
    "\n",
    "### Patient:innen mit Covid-19-Diagnosen auswählen"
   ]
  },
  {
   "cell_type": "code",
   "execution_count": null,
   "id": "european-probability",
   "metadata": {},
   "outputs": [],
   "source": [
    "# Bielefelder Patienten mit COVID-19 selektieren\n",
    "cohort.patients.bielefeld <- diagnoses.bielefeld %>% \n",
    "    filter(DESCRIPTION == \"COVID-19\") %>% \n",
    "    select(PATIENT) %>% distinct()\n",
    "head(cohort.patients.bielefeld)"
   ]
  },
  {
   "cell_type": "markdown",
   "id": "overall-active",
   "metadata": {},
   "source": [
    "### Ergänzung demographische Angaben"
   ]
  },
  {
   "cell_type": "code",
   "execution_count": null,
   "id": "noble-isaac",
   "metadata": {},
   "outputs": [],
   "source": [
    "# Demographische Angaben ergänzen\n",
    "cohort.patients.bielefeld <- cohort.patients.bielefeld %>% \n",
    "    inner_join(patients.bielefeld, by=c(\"PATIENT\" = \"Id\")) %>%\n",
    "    select(PATIENT, BIRTHDATE, DEATHDATE, GENDER, AGE, CITY)\n",
    "head(cohort.patients.bielefeld)"
   ]
  },
  {
   "cell_type": "markdown",
   "id": "steady-night",
   "metadata": {},
   "source": [
    "### Ableitung Vitalstatus aus Todesdatum"
   ]
  },
  {
   "cell_type": "code",
   "execution_count": null,
   "id": "vertical-bolivia",
   "metadata": {},
   "outputs": [],
   "source": [
    "# Vitalstatus ergänzen\n",
    "cohort.patients.bielefeld <- mutate(cohort.patients.bielefeld, VITALSTATUS = case_when(is.na(DEATHDATE) ~ \"ALIVE\", TRUE ~ \"DEAD\"))\n",
    "head(cohort.patients.bielefeld)"
   ]
  },
  {
   "cell_type": "markdown",
   "id": "arctic-accused",
   "metadata": {},
   "source": [
    "### Boxplot Alter vs. Vitalstatus"
   ]
  },
  {
   "cell_type": "code",
   "execution_count": null,
   "id": "searching-exchange",
   "metadata": {},
   "outputs": [],
   "source": [
    "# Alter gegen Vitalstatus plotten\n",
    "ggplot(cohort.patients.bielefeld, aes(x=VITALSTATUS, y=AGE)) +\n",
    "  geom_boxplot()"
   ]
  },
  {
   "cell_type": "markdown",
   "id": "trained-cambridge",
   "metadata": {},
   "source": [
    "### Selektion der Begleitdiagnosen der Kohorte"
   ]
  },
  {
   "cell_type": "code",
   "execution_count": null,
   "id": "innovative-hearts",
   "metadata": {},
   "outputs": [],
   "source": [
    "# Begleitdiagnosen der Bielefelder Patienten bestimmen\n",
    "cohort.secondary_diagnoses.bielefeld <- cohort.patients.bielefeld %>% \n",
    "            inner_join(diagnoses.bielefeld, by=\"PATIENT\") %>%\n",
    "            filter(!(DESCRIPTION %in% c(\"COVID-19\", \"Suspected COVID-19\")))\n",
    "head(cohort.secondary_diagnoses.bielefeld)"
   ]
  },
  {
   "cell_type": "markdown",
   "id": "advisory-athens",
   "metadata": {},
   "source": [
    "### Top-10 Begleitdiagnosen der Kohorte"
   ]
  },
  {
   "cell_type": "code",
   "execution_count": null,
   "id": "musical-dispatch",
   "metadata": {},
   "outputs": [],
   "source": [
    "# Barplot der Top 10 Begleitdiagnosen der Bielefelder COVID-19-Patienten\n",
    "ggplot(data=cohort.secondary_diagnoses.bielefeld %>%\n",
    "            group_by(DESCRIPTION) %>% \n",
    "            summarize(FREQ=n()) %>%\n",
    "            slice_max(FREQ, n=10),\n",
    "       aes(x=reorder(DESCRIPTION, -FREQ), y=FREQ)) +\n",
    "    geom_bar(stat=\"identity\") +\n",
    "    theme(axis.text.x = element_text(angle = 90, vjust = 0.5, hjust=1))"
   ]
  },
  {
   "cell_type": "markdown",
   "id": "solved-probe",
   "metadata": {},
   "source": [
    "### Reduktion auf Nebendiagnosen Adipositas, Erschöpfung & Atemnot"
   ]
  },
  {
   "cell_type": "code",
   "execution_count": null,
   "id": "suspended-retro",
   "metadata": {},
   "outputs": [],
   "source": [
    "# Zu untersuchende Nebendiagnosen (Adipositas, Erschöpfung und Atemnot) auslesen\n",
    "tmp <- cohort.secondary_diagnoses.bielefeld %>% \n",
    "       filter(DESCRIPTION %in% c(\"Body mass index 30+ - obesity (finding)\",\"Fatigue (finding)\",\"Respiratory distress (finding)\")) %>%\n",
    "       select(PATIENT, DESCRIPTION) %>%\n",
    "       mutate(DIAGNOSISPRESENT = 1)\n",
    "head(tmp)\n",
    "\n",
    "# Diagnosen zu Spalten pivotieren\n",
    "tmp <- pivot_wider(tmp, names_from=DESCRIPTION, values_from=DIAGNOSISPRESENT, values_fill=NA)\n",
    "head(tmp)\n",
    "\n",
    "# Spalten umbenennen\n",
    "colnames(tmp) <- c(\"PATIENT\", \"OBESITY\", \"FATIGUE\", \"RESPIRATORY_DISTRESS\")\n",
    "head(tmp)\n",
    "\n",
    "# Stammdaten & zu untersuchende Diagnosen zusammenführen\n",
    "cohort.dataset.bielefeld <- cohort.patients.bielefeld %>% left_join(tmp, by = \"PATIENT\")\n",
    "head(cohort.dataset.bielefeld)"
   ]
  },
  {
   "cell_type": "markdown",
   "id": "loaded-likelihood",
   "metadata": {},
   "source": [
    "### Generierung lokal aggregierter Zwischenergebnisse für die Merkmale"
   ]
  },
  {
   "cell_type": "code",
   "execution_count": null,
   "id": "outside-prototype",
   "metadata": {},
   "outputs": [],
   "source": [
    "# Lokal aggregierte Zwischenergebnisse für Bielefeld generieren\n",
    "cohort.localresult.bielefeld <- cohort.dataset.bielefeld %>%\n",
    "    group_by(VITALSTATUS) %>%\n",
    "    summarize(OBESITY = sum(OBESITY, na.rm=TRUE), \n",
    "              FATIGUE = sum(FATIGUE, na.rm=TRUE), \n",
    "              RESPIRATORY_DISTRESS = sum(RESPIRATORY_DISTRESS, na.rm=TRUE))\n",
    "head(cohort.localresult.bielefeld)"
   ]
  },
  {
   "cell_type": "markdown",
   "id": "civic-swing",
   "metadata": {},
   "source": [
    "### Chi-Quadrat-Test zwischen Vitalstatus & Nebendiagnosen durchführen"
   ]
  },
  {
   "cell_type": "code",
   "execution_count": null,
   "id": "suitable-picture",
   "metadata": {},
   "outputs": [],
   "source": [
    "# Ergebnis in Dataframe konvertieren und Vitalstatus zu Zeilennamen umformatieren\n",
    "tmp <- as.data.frame(cohort.localresult.bielefeld)\n",
    "rownames(tmp) = tmp$VITALSTATUS\n",
    "tmp <- tmp[-1]\n",
    "head(tmp)\n",
    "\n",
    "# Chi-Quadrat-Test zur Abhängigkeit zwischen Vitalstatus und den Nebendiagnosen für Bielefeld berechnen\n",
    "cs <- chisq.test(tmp)\n",
    "cs\n",
    "corrplot(cs$residuals, is.cor = FALSE)"
   ]
  },
  {
   "cell_type": "markdown",
   "id": "treated-penalty",
   "metadata": {},
   "source": [
    "## Mannheimer Daten laden & identisch aufbereiten"
   ]
  },
  {
   "cell_type": "code",
   "execution_count": null,
   "id": "minus-contract",
   "metadata": {},
   "outputs": [],
   "source": [
    "# Daten Mannheim laden\n",
    "patients.mannheim  <- read_csv(paste(base_url, \"rohdaten/mannheim/csv/patients.csv\",   sep=\"\"), col_types = cols(BIRTHDATE = col_date(format = \"%Y-%m-%d\")))\n",
    "diagnoses.mannheim <- read_csv(paste(base_url, \"rohdaten/mannheim/csv/conditions.csv\", sep=\"\"), col_types = cols(START = col_date(format = \"%Y-%m-%d\"), STOP = col_date(format = \"%Y-%m-%d\")))\n",
    "\n",
    "# Alter ergänzen\n",
    "patients.mannheim <- mutate(patients.mannheim, AGE = case_when(is.na(DEATHDATE) ~ as.period(interval(start = BIRTHDATE, end = Sys.Date()))$year, TRUE ~ as.period(interval(start = BIRTHDATE, end = DEATHDATE))$year))\n",
    "\n",
    "# Patienten mit COVID-19 selektieren\n",
    "cohort.patients.mannheim <- diagnoses.mannheim %>% \n",
    "    filter(DESCRIPTION == \"COVID-19\") %>% \n",
    "    select(PATIENT) %>% distinct()\n",
    "\n",
    "# Demographische Angaben ergänzen\n",
    "cohort.patients.mannheim <- cohort.patients.mannheim %>% \n",
    "    inner_join(patients.mannheim, by=c(\"PATIENT\" = \"Id\")) %>%\n",
    "    select(PATIENT, BIRTHDATE, DEATHDATE, GENDER, AGE, CITY)\n",
    "\n",
    "# Vitalstatus ergänzen\n",
    "cohort.patients.mannheim <- mutate(cohort.patients.mannheim, VITALSTATUS = case_when(is.na(DEATHDATE) ~ \"ALIVE\", TRUE ~ \"DEAD\"))\n",
    "\n",
    "# Begleitdiagnosen bestimmen\n",
    "cohort.secondary_diagnoses.mannheim <- cohort.patients.mannheim %>% \n",
    "            inner_join(diagnoses.mannheim, by=\"PATIENT\") %>%\n",
    "            filter(!(DESCRIPTION %in% c(\"COVID-19\", \"Suspected COVID-19\")))\n",
    "\n",
    "# Zu untersuchende Nebendiagnosen (Adipositas, Erschöpfung und Atemnot) auslesen\n",
    "tmp <- cohort.secondary_diagnoses.mannheim %>% \n",
    "       filter(DESCRIPTION %in% c(\"Body mass index 30+ - obesity (finding)\",\"Fatigue (finding)\",\"Respiratory distress (finding)\")) %>%\n",
    "       select(PATIENT, DESCRIPTION) %>%\n",
    "       mutate(DIAGNOSISPRESENT = 1)\n",
    "\n",
    "# Diagnosen zu Spalten pivotieren\n",
    "tmp <- pivot_wider(tmp, names_from=DESCRIPTION, values_from=DIAGNOSISPRESENT, values_fill=NA)\n",
    "\n",
    "# Spalten umbenennen\n",
    "colnames(tmp) <- c(\"PATIENT\", \"OBESITY\", \"FATIGUE\", \"RESPIRATORY_DISTRESS\")\n",
    "\n",
    "# Stammdaten & zu untersuchende Diagnosen zusammenführen\n",
    "cohort.dataset.mannheim <- cohort.patients.mannheim %>% left_join(tmp, by = \"PATIENT\")\n",
    "head(cohort.dataset.mannheim)"
   ]
  },
  {
   "cell_type": "markdown",
   "id": "municipal-chrome",
   "metadata": {},
   "source": [
    "### Aggregiertes lokales Zwischenergebnis für Mannheim generieren"
   ]
  },
  {
   "cell_type": "code",
   "execution_count": null,
   "id": "danish-following",
   "metadata": {},
   "outputs": [],
   "source": [
    "# Lokal aggregierte Zwischenergebnisse für Mannheim generieren\n",
    "cohort.localresult.mannheim <- cohort.dataset.mannheim %>%\n",
    "    group_by(VITALSTATUS) %>%\n",
    "    summarize(OBESITY = sum(OBESITY, na.rm=TRUE), \n",
    "              FATIGUE = sum(FATIGUE, na.rm=TRUE), \n",
    "              RESPIRATORY_DISTRESS = sum(RESPIRATORY_DISTRESS, na.rm=TRUE))\n",
    "head(cohort.localresult.mannheim)"
   ]
  },
  {
   "cell_type": "markdown",
   "id": "muslim-chain",
   "metadata": {},
   "source": [
    "### Chi-Quadrat-Test für Mannheimer-Daten durchführen"
   ]
  },
  {
   "cell_type": "code",
   "execution_count": null,
   "id": "disturbed-guest",
   "metadata": {},
   "outputs": [],
   "source": [
    "# Ergebnis in Dataframe konvertieren und Vitalstatus zu Zeilennamen umformatieren\n",
    "tmp <- as.data.frame(cohort.localresult.mannheim)\n",
    "rownames(tmp) = tmp$VITALSTATUS\n",
    "tmp <- tmp[-1]\n",
    "\n",
    "# Chi-Quadrat-Test zur Abhängigkeit zwischen Vitalstatus und den Nebendiagnosen für Mannheim berechnen\n",
    "cs <- chisq.test(tmp)\n",
    "cs\n",
    "corrplot(cs$residuals, is.cor = FALSE)"
   ]
  },
  {
   "cell_type": "markdown",
   "id": "monetary-cricket",
   "metadata": {},
   "source": [
    "## Leipziger Daten laden & identisch aufbereiten"
   ]
  },
  {
   "cell_type": "code",
   "execution_count": null,
   "id": "divided-disposition",
   "metadata": {},
   "outputs": [],
   "source": [
    "# Daten Leipzig laden\n",
    "patients.leipzig  <- read_csv(paste(base_url, \"rohdaten/leipzig/csv/patients.csv\",   sep=\"\"), col_types = cols(BIRTHDATE = col_date(format = \"%Y-%m-%d\")))\n",
    "diagnoses.leipzig <- read_csv(paste(base_url, \"rohdaten/leipzig/csv/conditions.csv\", sep=\"\"), col_types = cols(START = col_date(format = \"%Y-%m-%d\"), STOP = col_date(format = \"%Y-%m-%d\")))\n",
    "\n",
    "# Alter ergänzen\n",
    "patients.leipzig <- mutate(patients.leipzig, AGE = case_when(is.na(DEATHDATE) ~ as.period(interval(start = BIRTHDATE, end = Sys.Date()))$year, TRUE ~ as.period(interval(start = BIRTHDATE, end = DEATHDATE))$year))\n",
    "\n",
    "# Patienten mit COVID-19 selektieren\n",
    "cohort.patients.leipzig <- diagnoses.leipzig %>% \n",
    "    filter(DESCRIPTION == \"COVID-19\") %>% \n",
    "    select(PATIENT) %>% distinct()\n",
    "\n",
    "# Demographische Angaben ergänzen\n",
    "cohort.patients.leipzig <- cohort.patients.leipzig %>% \n",
    "    inner_join(patients.leipzig, by=c(\"PATIENT\" = \"Id\")) %>%\n",
    "    select(PATIENT, BIRTHDATE, DEATHDATE, GENDER, AGE, CITY)\n",
    "\n",
    "# Vitalstatus ergänzen\n",
    "cohort.patients.leipzig <- mutate(cohort.patients.leipzig, VITALSTATUS = case_when(is.na(DEATHDATE) ~ \"ALIVE\", TRUE ~ \"DEAD\"))\n",
    "\n",
    "# Begleitdiagnosen bestimmen\n",
    "cohort.secondary_diagnoses.leipzig <- cohort.patients.leipzig %>% \n",
    "            inner_join(diagnoses.leipzig, by=\"PATIENT\") %>%\n",
    "            filter(!(DESCRIPTION %in% c(\"COVID-19\", \"Suspected COVID-19\")))\n",
    "\n",
    "# Zu untersuchende Nebendiagnosen (Adipositas, Erschöpfung und Atemnot) auslesen\n",
    "tmp <- cohort.secondary_diagnoses.leipzig %>% \n",
    "       filter(DESCRIPTION %in% c(\"Body mass index 30+ - obesity (finding)\",\"Fatigue (finding)\",\"Respiratory distress (finding)\")) %>%\n",
    "       select(PATIENT, DESCRIPTION) %>%\n",
    "       mutate(DIAGNOSISPRESENT = 1)\n",
    "\n",
    "# Diagnosen zu Spalten pivotieren\n",
    "tmp <- pivot_wider(tmp, names_from=DESCRIPTION, values_from=DIAGNOSISPRESENT, values_fill=NA)\n",
    "\n",
    "# Spalten umbenennen\n",
    "colnames(tmp) <- c(\"PATIENT\", \"OBESITY\", \"FATIGUE\", \"RESPIRATORY_DISTRESS\")\n",
    "\n",
    "# Stammdaten & zu untersuchende Diagnosen zusammenführen\n",
    "cohort.dataset.leipzig <- cohort.patients.leipzig %>% left_join(tmp, by = \"PATIENT\")\n",
    "head(cohort.dataset.leipzig)"
   ]
  },
  {
   "cell_type": "markdown",
   "id": "continent-appearance",
   "metadata": {},
   "source": [
    "### Aggregiertes lokales Zwischenergebnis für Leipzig generieren"
   ]
  },
  {
   "cell_type": "code",
   "execution_count": null,
   "id": "reported-glossary",
   "metadata": {},
   "outputs": [],
   "source": [
    "# Lokal aggregierte Zwischenergebnisse für Leipzig generieren\n",
    "cohort.localresult.leipzig <- cohort.dataset.leipzig %>%\n",
    "    group_by(VITALSTATUS) %>%\n",
    "    summarize(OBESITY = sum(OBESITY, na.rm=TRUE), \n",
    "              FATIGUE = sum(FATIGUE, na.rm=TRUE), \n",
    "              RESPIRATORY_DISTRESS = sum(RESPIRATORY_DISTRESS, na.rm=TRUE))\n",
    "head(cohort.localresult.leipzig)"
   ]
  },
  {
   "cell_type": "markdown",
   "id": "noble-accountability",
   "metadata": {},
   "source": [
    "### Chi-Quadrat-Test für Leipziger Daten durchführen"
   ]
  },
  {
   "cell_type": "code",
   "execution_count": null,
   "id": "asian-adult",
   "metadata": {},
   "outputs": [],
   "source": [
    "# Ergebnis in Dataframe konvertieren und Vitalstatus zu Zeilennamen umformatieren\n",
    "tmp <- as.data.frame(cohort.localresult.leipzig)\n",
    "rownames(tmp) = tmp$VITALSTATUS\n",
    "tmp <- tmp[-1]\n",
    "\n",
    "# Chi-Quadrat-Test zur Abhängigkeit zwischen Vitalstatus und den Nebendiagnosen für Leipzig berechnen\n",
    "cs <- chisq.test(tmp)\n",
    "cs\n",
    "corrplot(cs$residuals, is.cor = FALSE)"
   ]
  },
  {
   "cell_type": "markdown",
   "id": "particular-communications",
   "metadata": {},
   "source": [
    "## Lokale Zwischenergebnisse der 3 Standorte zusammenführen"
   ]
  },
  {
   "cell_type": "code",
   "execution_count": null,
   "id": "unnecessary-comfort",
   "metadata": {},
   "outputs": [],
   "source": [
    "# Aggregierte Zwischenergebnisse der Standorte zusammenführen\n",
    "cohort.combinedresult <- bind_rows(cohort.localresult.bielefeld,\n",
    "                                   cohort.localresult.mannheim,\n",
    "                                   cohort.localresult.leipzig) %>%\n",
    "    group_by(VITALSTATUS) %>%\n",
    "    summarize(OBESITY = sum(OBESITY, na.rm=TRUE), \n",
    "              FATIGUE = sum(FATIGUE, na.rm=TRUE), \n",
    "              RESPIRATORY_DISTRESS = sum(RESPIRATORY_DISTRESS, na.rm=TRUE))\n",
    "head(cohort.combinedresult)"
   ]
  },
  {
   "cell_type": "markdown",
   "id": "norman-hurricane",
   "metadata": {},
   "source": [
    "### Chi-Quadrat-Test über die zusammengeführten Daten durchführen"
   ]
  },
  {
   "cell_type": "code",
   "execution_count": null,
   "id": "bored-julian",
   "metadata": {},
   "outputs": [],
   "source": [
    "# Ergebnis in Dataframe konvertieren und Vitalstatus zu Zeilennamen umformatieren\n",
    "tmp <- as.data.frame(cohort.combinedresult)\n",
    "rownames(tmp) = tmp$VITALSTATUS\n",
    "tmp <- tmp[-1]\n",
    "\n",
    "# Chi-Quadrat-Test zur Abhängigkeit zwischen Vitalstatus und den Nebendiagnosen für Leipzig berechnen\n",
    "cs <- chisq.test(tmp)\n",
    "cs\n",
    "corrplot(cs$residuals, is.cor = FALSE)"
   ]
  }
 ],
 "metadata": {
  "kernelspec": {
   "display_name": "R",
   "language": "R",
   "name": "ir"
  },
  "language_info": {
   "codemirror_mode": "r",
   "file_extension": ".r",
   "mimetype": "text/x-r-source",
   "name": "R",
   "pygments_lexer": "r",
   "version": "3.6.1"
  }
 },
 "nbformat": 4,
 "nbformat_minor": 5
}
