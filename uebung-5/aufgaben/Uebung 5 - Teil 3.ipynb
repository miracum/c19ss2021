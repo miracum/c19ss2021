{
 "cells": [
  {
   "cell_type": "markdown",
   "id": "bearing-custody",
   "metadata": {},
   "source": [
    "# Initialisierung"
   ]
  },
  {
   "cell_type": "code",
   "execution_count": null,
   "id": "powerful-leader",
   "metadata": {},
   "outputs": [],
   "source": [
    "# Packages installieren (ggf. beim ersten Lauf aktivieren, danach auskommentieren)\n",
    "#install.packages(\"tidyverse\")\n",
    "#install.packages(\"leaflet\")\n",
    "#install.packages(\"corrplot\")\n",
    "\n",
    "# Packages laden\n",
    "library(readr)\n",
    "library(dplyr)\n",
    "library(tidyr)\n",
    "library(lubridate)\n",
    "library(leaflet)\n",
    "library(corrplot)\n",
    "library(ggplot2)\n",
    "\n",
    "# Konfiguration\n",
    "base_url = \"https://raw.githubusercontent.com/miracum/c19ss2021/master/uebung-5/\""
   ]
  },
  {
   "cell_type": "markdown",
   "id": "sealed-meaning",
   "metadata": {},
   "source": [
    "# Data Load & Prep\n",
    "\n",
    "## Bielefelder Daten laden & preppen"
   ]
  },
  {
   "cell_type": "code",
   "execution_count": null,
   "id": "above-canberra",
   "metadata": {},
   "outputs": [],
   "source": [
    "# Daten laden\n",
    "patients.bielefeld  <- read_csv(paste(base_url, \"rohdaten/bielefeld/csv/patients.csv\",   sep=\"\"), col_types = cols(BIRTHDATE = col_date(format = \"%Y-%m-%d\")))\n",
    "diagnoses.bielefeld <- read_csv(paste(base_url, \"rohdaten/bielefeld/csv/conditions.csv\", sep=\"\"), col_types = cols(START = col_date(format = \"%Y-%m-%d\"), STOP = col_date(format = \"%Y-%m-%d\")))\n",
    "\n",
    "# Alter ergänzen\n",
    "patients.bielefeld <- mutate(patients.bielefeld, AGE = case_when(is.na(DEATHDATE) ~ as.period(interval(start = BIRTHDATE, end = Sys.Date()))$year, TRUE ~ as.period(interval(start = BIRTHDATE, end = DEATHDATE))$year))\n",
    "\n",
    "# Patienten mit COVID-19 selektieren\n",
    "cohort.patients.bielefeld <- diagnoses.bielefeld %>% \n",
    "    filter(DESCRIPTION == \"COVID-19\") %>% \n",
    "    select(PATIENT) %>% distinct()\n",
    "\n",
    "# Demographische Angaben ergänzen\n",
    "cohort.patients.bielefeld <- cohort.patients.bielefeld %>% \n",
    "    inner_join(patients.bielefeld, by=c(\"PATIENT\" = \"Id\")) %>%\n",
    "    select(PATIENT, BIRTHDATE, DEATHDATE, GENDER, AGE, CITY)\n",
    "\n",
    "# Vitalstatus ergänzen\n",
    "cohort.patients.bielefeld <- mutate(cohort.patients.bielefeld, VITALSTATUS = case_when(is.na(DEATHDATE) ~ \"ALIVE\", TRUE ~ \"DEAD\"))\n",
    "\n",
    "# Begleitdiagnosen bestimmen\n",
    "cohort.secondary_diagnoses.bielefeld <- cohort.patients.bielefeld %>% \n",
    "            inner_join(diagnoses.bielefeld, by=\"PATIENT\") %>%\n",
    "            filter(!(DESCRIPTION %in% c(\"COVID-19\", \"Suspected COVID-19\")))\n",
    "\n",
    "# Zu untersuchende Nebendiagnosen (Adipositas, Erschöpfung und Atemnot) auslesen\n",
    "tmp <- cohort.secondary_diagnoses.bielefeld %>% \n",
    "       filter(DESCRIPTION %in% c(\"Body mass index 30+ - obesity (finding)\",\"Fatigue (finding)\",\"Respiratory distress (finding)\")) %>%\n",
    "       select(PATIENT, DESCRIPTION) %>%\n",
    "       mutate(DIAGNOSISPRESENT = 1)\n",
    "\n",
    "# Diagnosen zu Spalten pivotieren\n",
    "tmp <- pivot_wider(tmp, names_from=DESCRIPTION, values_from=DIAGNOSISPRESENT, values_fill=NA)\n",
    "\n",
    "# Spalten umbenennen\n",
    "colnames(tmp) <- c(\"PATIENT\", \"OBESITY\", \"FATIGUE\", \"RESPIRATORY_DISTRESS\")\n",
    "\n",
    "# Stammdaten & zu untersuchende Diagnosen zusammenführen\n",
    "cohort.dataset.bielefeld <- cohort.patients.bielefeld %>% left_join(tmp, by = \"PATIENT\")\n",
    "head(cohort.dataset.bielefeld)"
   ]
  },
  {
   "cell_type": "markdown",
   "id": "selected-deficit",
   "metadata": {},
   "source": [
    "## Mannheimer Daten laden & preppen\n",
    "\n",
    "### Ihre Aufgabe: übernehmen Sie den Bielefelder Code & passen Sie ihn auf Mannheim an!"
   ]
  },
  {
   "cell_type": "code",
   "execution_count": null,
   "id": "recognized-moral",
   "metadata": {},
   "outputs": [],
   "source": []
  },
  {
   "cell_type": "markdown",
   "id": "powered-mattress",
   "metadata": {},
   "source": [
    "## Leipziger Daten laden & preppen\n",
    "\n",
    "### Ihre Aufgabe: übernehmen Sie den Bielefelder Code & passen Sie ihn auf Leipzig an!"
   ]
  },
  {
   "cell_type": "code",
   "execution_count": null,
   "id": "operating-wireless",
   "metadata": {},
   "outputs": [],
   "source": []
  },
  {
   "cell_type": "markdown",
   "id": "eight-village",
   "metadata": {},
   "source": [
    "# Generierung lokal aggregierter Zwischenergebnisse\n",
    "\n",
    "## Zwischenergebnisse für Bielefeld"
   ]
  },
  {
   "cell_type": "code",
   "execution_count": null,
   "id": "written-census",
   "metadata": {},
   "outputs": [],
   "source": [
    "# Lokal aggregierte Zwischenergebnisse für Bielefeld generieren\n",
    "cohort.localresult.bielefeld <- cohort.dataset.bielefeld %>%\n",
    "    group_by(VITALSTATUS) %>%\n",
    "    summarize(OBESITY = sum(OBESITY, na.rm=TRUE), \n",
    "              FATIGUE = sum(FATIGUE, na.rm=TRUE), \n",
    "              RESPIRATORY_DISTRESS = sum(RESPIRATORY_DISTRESS, na.rm=TRUE))\n",
    "head(cohort.localresult.bielefeld)"
   ]
  },
  {
   "cell_type": "markdown",
   "id": "hourly-abortion",
   "metadata": {},
   "source": [
    "### Ihre Aufgabe: übernehmen Sie den Bielefelder Code und passen Sie ihn für Mannheim & Leipzig an!"
   ]
  },
  {
   "cell_type": "code",
   "execution_count": null,
   "id": "ecological-device",
   "metadata": {},
   "outputs": [],
   "source": []
  },
  {
   "cell_type": "code",
   "execution_count": null,
   "id": "japanese-tanzania",
   "metadata": {},
   "outputs": [],
   "source": []
  },
  {
   "cell_type": "markdown",
   "id": "assumed-taylor",
   "metadata": {},
   "source": [
    "# Zusammenführung der lokalen Zwischenergebnisse & Auswertung\n",
    "\n",
    "## Ihre Aufgabe: führen Sie die 3 Zwischenergebnisse zusammen!"
   ]
  },
  {
   "cell_type": "code",
   "execution_count": null,
   "id": "empty-problem",
   "metadata": {},
   "outputs": [],
   "source": []
  },
  {
   "cell_type": "markdown",
   "id": "norman-beads",
   "metadata": {},
   "source": [
    "## Ihre Aufgabe: führen Sie den Chi-Quadrat-Test für die zusammengeführten Zwischenergebnisse durch!"
   ]
  },
  {
   "cell_type": "code",
   "execution_count": null,
   "id": "maritime-grocery",
   "metadata": {},
   "outputs": [],
   "source": []
  }
 ],
 "metadata": {
  "kernelspec": {
   "display_name": "R",
   "language": "R",
   "name": "ir"
  },
  "language_info": {
   "codemirror_mode": "r",
   "file_extension": ".r",
   "mimetype": "text/x-r-source",
   "name": "R",
   "pygments_lexer": "r",
   "version": "3.6.1"
  }
 },
 "nbformat": 4,
 "nbformat_minor": 5
}
